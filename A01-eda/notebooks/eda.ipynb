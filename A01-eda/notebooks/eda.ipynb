{
  "cells": [
    {
      "cell_type": "markdown",
      "metadata": {},
      "source": "# A01 \u2014 EDA Warm-Up (California Housing)\n\n**What to do (commit after each \u2714):**\n1. \u2714 Run all cells once. Verify files appear in `A01-eda/data/` and `A01-eda/figs/`.\n2. \u2714 Change **one thing** (e.g., histogram `bins` or choose a different numeric column), re-run the affected cell(s).\n3. \u2714 Commit & push. Add a 2\u20133 sentence note in `A01-eda/README.md` about what changed and what you observed."
    },
    {
      "cell_type": "code",
      "metadata": {},
      "execution_count": null,
      "outputs": [],
      "source": "from pathlib import Path\nimport pandas as pd\nimport numpy as np\nimport matplotlib.pyplot as plt\n\n# Find the repo root (folder containing .git). If not found, use current working directory.\nREPO = Path.cwd()\nfor _ in range(10):\n    if (REPO / \".git\").exists():\n        break\n    if REPO.parent == REPO:\n        break\n    REPO = REPO.parent\n\n# A01 root and output folders\nA01 = REPO / \"A01-eda\"\nDATA = A01 / \"data\"\nFIGS = A01 / \"figs\"\nDATA.mkdir(parents=True, exist_ok=True)\nFIGS.mkdir(parents=True, exist_ok=True)\n\nprint(\"Repo root:\", REPO)\nprint(\"A01 dir  :\", A01)\nprint(\"Data dir :\", DATA)\nprint(\"Figs dir :\", FIGS)"
    },
    {
      "cell_type": "code",
      "metadata": {},
      "execution_count": null,
      "outputs": [],
      "source": "from sklearn.datasets import fetch_california_housing\n\ncal = fetch_california_housing(as_frame=True)\ndf = cal.frame.rename(columns={\"MedHouseVal\": \"MedHomeVal_100k\"})\ndf[\"MedHomeVal_$\"] = df[\"MedHomeVal_100k\"] * 100_000\n\nprint(\"Shape:\", df.shape)\ndf.head()"
    },
    {
      "cell_type": "code",
      "metadata": {},
      "execution_count": null,
      "outputs": [],
      "source": "summary = df.describe(include=\"all\").T\nsummary.to_csv(DATA / \"summary.csv\")\nnulls = df.isna().sum().sort_values(ascending=False)\nnulls.to_csv(DATA / \"null_counts.csv\")\nsummary.head(10)"
    },
    {
      "cell_type": "code",
      "metadata": {},
      "execution_count": null,
      "outputs": [],
      "source": "# Choose a numeric column and number of bins, then re-run this cell to regenerate the plot.\ncol = \"MedInc\"  # try changing this to another numeric column from df.columns\nbins = 30       # try 50\n\nassert col in df.columns, f\"{col} not in dataframe columns\"\nassert pd.api.types.is_numeric_dtype(df[col]), f\"{col} is not numeric\"\n\nplt.figure()\ndf[col].hist(bins=bins)\nplt.title(f\"Histogram of {col} (bins={bins})\")\nplt.xlabel(col); plt.ylabel(\"count\")\nplt.tight_layout()\nout = FIGS / f\"hist_{col}_{bins}.png\"\nplt.savefig(out, dpi=150)\nout"
    },
    {
      "cell_type": "code",
      "metadata": {},
      "execution_count": null,
      "outputs": [],
      "source": "# Optional: scatter of income vs. home value if both columns exist\nif {\"MedInc\", \"MedHomeVal_$\"}.issubset(df.columns):\n    plt.figure()\n    plt.scatter(df[\"MedInc\"], df[\"MedHomeVal_$\"], s=5, alpha=0.5)\n    plt.xlabel(\"Median Income (10k units in original)\")\n    plt.ylabel(\"Median Home Value ($)\")\n    plt.title(\"Income vs Home Value\")\n    plt.tight_layout()\n    out2 = FIGS / \"scatter_income_value.png\"\n    plt.savefig(out2, dpi=150)\n    out2\nelse:\n    print(\"Columns for scatter not found; skipping.\")"
    },
    {
      "cell_type": "markdown",
      "metadata": {},
      "source": "## Next steps\n- Change `bins` or pick a different numeric `col` above, re-run the cell, and ensure a new PNG appears in `figs/`.\n- Commit & push your changes with a meaningful message.\n- Open an Issue titled **\u201cA01 ready\u201d** and paste your latest commit hash (`git log --oneline -1`)."
    }
  ],
  "metadata": {
    "kernelspec": {
      "display_name": "Python 3",
      "language": "python",
      "name": "python3"
    },
    "language_info": {
      "name": "python",
      "version": "3.x"
    }
  },
  "nbformat": 4,
  "nbformat_minor": 5
}